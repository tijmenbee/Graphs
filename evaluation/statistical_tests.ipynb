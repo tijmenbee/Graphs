{
 "cells": [
  {
   "cell_type": "code",
   "execution_count": 66,
   "id": "4455083d",
   "metadata": {},
   "outputs": [],
   "source": [
    "import pickle\n",
    "\n",
    "from collections import defaultdict\n",
    "from scipy.stats import wilcoxon\n",
    "\n",
    "METHOD_NAME_MAP = {\n",
    "    \"Louvain-Variant\": \"CTL\",\n",
    "    \"Louvain-Variant Leiden-Addition\": \"CTL Leiden-Addition\",\n",
    "    \"Louvain\": \"Louvain\",\n",
    "    \"Temporal Louvain\": \"Temporal Louvain\"\n",
    "}\n",
    "\n",
    "def return_def_list() -> defaultdict:\n",
    "    \"\"\"\n",
    "    Function to create specific data structure that makes it easier to store multiple experiment runs\n",
    "    \"\"\"\n",
    "    return defaultdict(list)"
   ]
  },
  {
   "cell_type": "code",
   "execution_count": 95,
   "id": "40aa8a1c",
   "metadata": {},
   "outputs": [],
   "source": [
    "import copy\n",
    "\n",
    "def get_stats(data_path):\n",
    "    data = pickle.load(open(data_path, \"rb\"))\n",
    "    results_orig = data[\"original\"]\n",
    "    data.pop(\"original\")\n",
    "    results_var = copy.deepcopy(data)\n",
    "\n",
    "    stat_results = {}\n",
    "    for cc_th, results in results_var.items():\n",
    "        for method_name, results_method in results.items():\n",
    "            for method_name_orig, results_method_orig in results_orig.items():\n",
    "                stat_results[f\"{method_name}_{method_name_orig}_{cc_th}\"] = {\n",
    "                    \"time\": wilcoxon(results_method[\"time\"][0], results_method_orig[\"time\"][0], alternative=\"less\"),\n",
    "                    \"nmi\": wilcoxon(results_method[\"nmi\"][0], results_method_orig[\"nmi\"][0], alternative=\"greater\"),\n",
    "                    \"modularity\": wilcoxon(results_method[\"modularity\"][0], results_method_orig[\"modularity\"][0], alternative=\"greater\")\n",
    "                }\n",
    "            for method_name_var, results_method_var in results.items():\n",
    "                if method_name_var == method_name:\n",
    "                    continue\n",
    "                stat_results[f\"{method_name}_{method_name_var}_{cc_th}\"] = {\n",
    "                    \"time\": wilcoxon(results_method[\"time\"][0], results_method_var[\"time\"][0], alternative=\"less\"),\n",
    "                    \"nmi\": wilcoxon(results_method[\"nmi\"][0], results_method_var[\"nmi\"][0], alternative=\"greater\"),\n",
    "                    \"modularity\": wilcoxon(results_method[\"modularity\"][0], results_method_var[\"modularity\"][0], alternative=\"greater\")\n",
    "                }\n",
    "\n",
    "    alpha = 0.05\n",
    "    table_header = \"\\\\hline\\nMethod 1 & Method 2 & Metric & Hypothesis & Statistic & p-value \\\\\\\\ \\\\hline\"\n",
    "    row_template = \"{method_1} & {method_2} & {metric_type} & {hypothesis} & {statistic} & {p} \\\\\\\\ \"\n",
    "    table_rows = [table_header]\n",
    "    for pair_test, p in stat_results.items():\n",
    "        method_x, method_y, cc_th = pair_test.split(\"_\")\n",
    "        method_x = METHOD_NAME_MAP[method_x]\n",
    "        method_y = METHOD_NAME_MAP[method_y]\n",
    "        \n",
    "        if cc_th != \"0.8\":\n",
    "            continue\n",
    "\n",
    "        table_rows += [\n",
    "            row_template.format(\n",
    "                method_1=method_x,method_2=method_y,metric_type=\"Walltime\",hypothesis=\"Less\",statistic=p[\"time\"].statistic,p=f\"\\\\textbf{{{round(p[\"time\"].pvalue,5)}}}\" if round(p[\"time\"].pvalue,5) < alpha else round(p[\"time\"].pvalue,5)\n",
    "            ),\n",
    "            row_template.format(\n",
    "                method_1=method_x,method_2=method_y,metric_type=\"NMI\",hypothesis=\"Greater\",statistic=p[\"nmi\"].statistic,p=f\"\\\\textbf{{{round(p[\"nmi\"].pvalue,5)}}}\" if round(p[\"nmi\"].pvalue,5) < alpha else round(p[\"nmi\"].pvalue,5)\n",
    "            ),\n",
    "            row_template.format(\n",
    "                method_1=method_x,method_2=method_y,metric_type=\"Modularity\",hypothesis=\"Greater\",statistic=p[\"modularity\"].statistic,p=f\"\\\\textbf{{{round(p[\"modularity\"].pvalue,5)}}}\" if round(p[\"modularity\"].pvalue,5) < alpha else round(p[\"modularity\"].pvalue,5)\n",
    "            ) + \"\\\\midrule\\\\midrule\"\n",
    "        ]\n",
    "\n",
    "    return table_rows"
   ]
  },
  {
   "cell_type": "markdown",
   "id": "c04bc74b",
   "metadata": {},
   "source": [
    "# Synthetic Network, 20% probability to switch"
   ]
  },
  {
   "cell_type": "code",
   "execution_count": 96,
   "id": "b630a112",
   "metadata": {},
   "outputs": [],
   "source": [
    "path = \"results/results_100_5000_20_02_02.pickle\"\n",
    "table_rows = get_stats(path)"
   ]
  },
  {
   "cell_type": "code",
   "execution_count": 97,
   "id": "cb9238fc",
   "metadata": {},
   "outputs": [
    {
     "name": "stdout",
     "output_type": "stream",
     "text": [
      "\\hline\n",
      "Method 1 & Method 2 & Metric & Hypothesis & Statistic & p-value \\\\ \\hline\n",
      "CTL & Louvain & Walltime & Less & 0.0 & \\textbf{0.0} \\\\ \n",
      "CTL & Louvain & NMI & Greater & 0.0 & 1.0 \\\\ \n",
      "CTL & Louvain & Modularity & Greater & 0.0 & 1.0 \\\\ \\midrule\\midrule\n",
      "CTL & Temporal Louvain & Walltime & Less & 1402.0 & \\textbf{6e-05} \\\\ \n",
      "CTL & Temporal Louvain & NMI & Greater & 1192.0 & 1.0 \\\\ \n",
      "CTL & Temporal Louvain & Modularity & Greater & 286.0 & 1.0 \\\\ \\midrule\\midrule\n",
      "CTL & CTL Leiden-Addition & Walltime & Less & 1.0 & \\textbf{0.0} \\\\ \n",
      "CTL & CTL Leiden-Addition & NMI & Greater & 0.0 & 1.0 \\\\ \n",
      "CTL & CTL Leiden-Addition & Modularity & Greater & 2.0 & 1.0 \\\\ \\midrule\\midrule\n",
      "CTL Leiden-Addition & Louvain & Walltime & Less & 5049.0 & 1.0 \\\\ \n",
      "CTL Leiden-Addition & Louvain & NMI & Greater & 4944.0 & \\textbf{0.0} \\\\ \n",
      "CTL Leiden-Addition & Louvain & Modularity & Greater & 0.0 & 1.0 \\\\ \\midrule\\midrule\n",
      "CTL Leiden-Addition & Temporal Louvain & Walltime & Less & 5049.0 & 1.0 \\\\ \n",
      "CTL Leiden-Addition & Temporal Louvain & NMI & Greater & 4950.0 & \\textbf{0.0} \\\\ \n",
      "CTL Leiden-Addition & Temporal Louvain & Modularity & Greater & 4941.0 & \\textbf{0.0} \\\\ \\midrule\\midrule\n",
      "CTL Leiden-Addition & CTL & Walltime & Less & 5049.0 & 1.0 \\\\ \n",
      "CTL Leiden-Addition & CTL & NMI & Greater & 4950.0 & \\textbf{0.0} \\\\ \n",
      "CTL Leiden-Addition & CTL & Modularity & Greater & 4948.0 & \\textbf{0.0} \\\\ \\midrule\\midrule\n"
     ]
    }
   ],
   "source": [
    "print(\"\\n\".join(table_rows))"
   ]
  },
  {
   "cell_type": "markdown",
   "id": "eef51af0",
   "metadata": {},
   "source": [
    "# Synthetic Network, 50% probability to switch"
   ]
  },
  {
   "cell_type": "code",
   "execution_count": 98,
   "id": "cc55e286",
   "metadata": {},
   "outputs": [],
   "source": [
    "path = \"results/results_100_5000_20_02_05.pickle\"\n",
    "table_rows = get_stats(path)"
   ]
  },
  {
   "cell_type": "code",
   "execution_count": 99,
   "id": "5aa34b62",
   "metadata": {},
   "outputs": [
    {
     "name": "stdout",
     "output_type": "stream",
     "text": [
      "\\hline\n",
      "Method 1 & Method 2 & Metric & Hypothesis & Statistic & p-value \\\\ \\hline\n",
      "CTL & Louvain & Walltime & Less & 0.0 & \\textbf{0.0} \\\\ \n",
      "CTL & Louvain & NMI & Greater & 0.0 & 1.0 \\\\ \n",
      "CTL & Louvain & Modularity & Greater & 0.0 & 1.0 \\\\ \\midrule\\midrule\n",
      "CTL & Temporal Louvain & Walltime & Less & 2406.0 & 0.34121 \\\\ \n",
      "CTL & Temporal Louvain & NMI & Greater & 519.0 & 1.0 \\\\ \n",
      "CTL & Temporal Louvain & Modularity & Greater & 773.0 & 1.0 \\\\ \\midrule\\midrule\n",
      "CTL & CTL Leiden-Addition & Walltime & Less & 0.0 & \\textbf{0.0} \\\\ \n",
      "CTL & CTL Leiden-Addition & NMI & Greater & 0.0 & 1.0 \\\\ \n",
      "CTL & CTL Leiden-Addition & Modularity & Greater & 1.0 & 1.0 \\\\ \\midrule\\midrule\n",
      "CTL Leiden-Addition & Louvain & Walltime & Less & 5049.0 & 1.0 \\\\ \n",
      "CTL Leiden-Addition & Louvain & NMI & Greater & 4949.0 & \\textbf{0.0} \\\\ \n",
      "CTL Leiden-Addition & Louvain & Modularity & Greater & 0.0 & 1.0 \\\\ \\midrule\\midrule\n",
      "CTL Leiden-Addition & Temporal Louvain & Walltime & Less & 5050.0 & 1.0 \\\\ \n",
      "CTL Leiden-Addition & Temporal Louvain & NMI & Greater & 4950.0 & \\textbf{0.0} \\\\ \n",
      "CTL Leiden-Addition & Temporal Louvain & Modularity & Greater & 4947.0 & \\textbf{0.0} \\\\ \\midrule\\midrule\n",
      "CTL Leiden-Addition & CTL & Walltime & Less & 5050.0 & 1.0 \\\\ \n",
      "CTL Leiden-Addition & CTL & NMI & Greater & 4950.0 & \\textbf{0.0} \\\\ \n",
      "CTL Leiden-Addition & CTL & Modularity & Greater & 4949.0 & \\textbf{0.0} \\\\ \\midrule\\midrule\n"
     ]
    }
   ],
   "source": [
    "print(\"\\n\".join(table_rows))"
   ]
  }
 ],
 "metadata": {
  "kernelspec": {
   "display_name": "ns",
   "language": "python",
   "name": "python3"
  },
  "language_info": {
   "codemirror_mode": {
    "name": "ipython",
    "version": 3
   },
   "file_extension": ".py",
   "mimetype": "text/x-python",
   "name": "python",
   "nbconvert_exporter": "python",
   "pygments_lexer": "ipython3",
   "version": "3.12.9"
  }
 },
 "nbformat": 4,
 "nbformat_minor": 5
}
